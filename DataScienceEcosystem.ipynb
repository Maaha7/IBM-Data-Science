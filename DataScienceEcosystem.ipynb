{
 "cells": [
  {
   "cell_type": "markdown",
   "id": "a657953f-e15f-4639-9e91-5b7b08407211",
   "metadata": {},
   "source": [
    "# Data Science Tools and Ecosystem "
   ]
  },
  {
   "cell_type": "markdown",
   "id": "30689960-8d76-4c14-909f-d0a64c03937a",
   "metadata": {},
   "source": [
    "In this notebook, Data Science Tools and Ecosystem are summarized."
   ]
  },
  {
   "cell_type": "markdown",
   "id": "2632ef48-0541-492f-a70b-a8f3f7c213e3",
   "metadata": {
    "tags": []
   },
   "source": [
    " **Objectives:**\n",
    "\n",
    "- List popular languages for Data Science. \n",
    "- List common Data Science libraries.\n",
    "- List open-source tools used in Data Science development environments.\n",
    "- Evaluate arithmetic expressions.\n",
    "- Convert minutes to hours."
   ]
  },
  {
   "cell_type": "markdown",
   "id": "52df1473-300c-4749-b28b-e739cbe62c96",
   "metadata": {},
   "source": [
    "Some of the popular languages that Data Scientists use are:\n",
    "1. Python\n",
    "2. R\n",
    "3. SQL"
   ]
  },
  {
   "cell_type": "markdown",
   "id": "374e29e1-3780-474c-8e4c-3c3e48d8717e",
   "metadata": {},
   "source": [
    "Some of the commonly used libraries used by Data Scientists include:\n",
    "\n",
    "1. NumPy\n",
    "2. Pandas\n",
    "3. Matplotlib\n"
   ]
  },
  {
   "cell_type": "markdown",
   "id": "c641b7db-ab94-44b6-a1e7-99b7fe18e554",
   "metadata": {},
   "source": [
    "| Data Science Tools |\n",
    "|--------------------|\n",
    "| Jupyter Notebook   |\n",
    "| RStudio            |\n",
    "| SPYDER |"
   ]
  },
  {
   "cell_type": "markdown",
   "id": "be3c3d98-7ffb-4ab0-8005-101f077529bd",
   "metadata": {},
   "source": [
    "Below are a few examples of evaluating arithmetic expressions in Python"
   ]
  },
  {
   "cell_type": "code",
   "execution_count": 1,
   "id": "3571975b-4382-4f3a-8d35-ae5587191fc5",
   "metadata": {
    "tags": []
   },
   "outputs": [
    {
     "data": {
      "text/plain": [
       "17"
      ]
     },
     "execution_count": 1,
     "metadata": {},
     "output_type": "execute_result"
    }
   ],
   "source": [
    "# This a simple arithmetic expression to mutiply then add integers\n",
    "(3*4)+5"
   ]
  },
  {
   "cell_type": "code",
   "execution_count": 3,
   "id": "6381e61e-2594-47ab-9535-eb0a56f60b0f",
   "metadata": {
    "tags": []
   },
   "outputs": [
    {
     "data": {
      "text/plain": [
       "3.3333333333333335"
      ]
     },
     "execution_count": 3,
     "metadata": {},
     "output_type": "execute_result"
    }
   ],
   "source": [
    "# This will convert 200 minutes to hours by diving by 60\n",
    "minutes = 200\n",
    "hours = minutes / 60\n",
    "hours"
   ]
  },
  {
   "cell_type": "markdown",
   "id": "6e09288d-3b49-4747-a03b-6361464dfffb",
   "metadata": {},
   "source": [
    "## Author\n",
    "Maha Alharthi"
   ]
  },
  {
   "cell_type": "code",
   "execution_count": null,
   "id": "ae96a5c0-73c2-4788-8ad3-6a2ed24a4fe7",
   "metadata": {},
   "outputs": [],
   "source": []
  }
 ],
 "metadata": {
  "kernelspec": {
   "display_name": "Python",
   "language": "python",
   "name": "conda-env-python-py"
  },
  "language_info": {
   "codemirror_mode": {
    "name": "ipython",
    "version": 3
   },
   "file_extension": ".py",
   "mimetype": "text/x-python",
   "name": "python",
   "nbconvert_exporter": "python",
   "pygments_lexer": "ipython3",
   "version": "3.7.12"
  }
 },
 "nbformat": 4,
 "nbformat_minor": 5
}
